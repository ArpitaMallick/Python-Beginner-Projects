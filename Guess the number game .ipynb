{
 "cells": [
  {
   "cell_type": "code",
   "execution_count": 13,
   "metadata": {},
   "outputs": [
    {
     "name": "stdout",
     "output_type": "stream",
     "text": [
      "Enter a randome number between 1 to 99: 50\n",
      "your guess is high\n",
      "Enter an integer from 1 to 99: 40\n",
      "your guess is high\n",
      "Enter an integer from 1 to 99: 30\n",
      "your guess is high\n",
      "Enter an integer from 1 to 99: 20\n",
      "your guess is high\n",
      "Enter an integer from 1 to 99: 10\n",
      "your guess is high\n",
      "Enter an integer from 1 to 99: 7\n",
      "your guess is high\n",
      "Enter an integer from 1 to 99: 5\n",
      "your guess is high\n",
      "Enter an integer from 1 to 99: 4\n",
      "your guess is high\n",
      "Enter an integer from 1 to 99: 3\n",
      "your guess is high\n",
      "Enter an integer from 1 to 99: 2\n",
      "yay! you guessed it!\n"
     ]
    }
   ],
   "source": [
    "import random\n",
    "n=random.randint(1,99)\n",
    "try:\n",
    "    user_guess=int(input(\"Enter a randome number between 1 to 99: \"))\n",
    "except:\n",
    "    print(\"Not an integer, try again!\")\n",
    "    \n",
    "while n!=user_guess:\n",
    "    if(user_guess<n):\n",
    "        print (\"your guess is low\")\n",
    "        user_guess = int(input(\"Enter an integer from 1 to 99: \"))\n",
    "    elif guess > n:\n",
    "        print (\"your guess is high\")\n",
    "        user_guess = int(input(\"Enter an integer from 1 to 99: \"))\n",
    "print (\"yay! you guessed it!\")"
   ]
  },
  {
   "cell_type": "code",
   "execution_count": null,
   "metadata": {},
   "outputs": [],
   "source": [
    "\n",
    "    "
   ]
  },
  {
   "cell_type": "code",
   "execution_count": null,
   "metadata": {},
   "outputs": [],
   "source": []
  }
 ],
 "metadata": {
  "kernelspec": {
   "display_name": "Python 3",
   "language": "python",
   "name": "python3"
  },
  "language_info": {
   "codemirror_mode": {
    "name": "ipython",
    "version": 3
   },
   "file_extension": ".py",
   "mimetype": "text/x-python",
   "name": "python",
   "nbconvert_exporter": "python",
   "pygments_lexer": "ipython3",
   "version": "3.7.3"
  }
 },
 "nbformat": 4,
 "nbformat_minor": 2
}
