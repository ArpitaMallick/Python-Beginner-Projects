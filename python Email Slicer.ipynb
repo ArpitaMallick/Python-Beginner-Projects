{
 "cells": [
  {
   "cell_type": "code",
   "execution_count": 1,
   "metadata": {},
   "outputs": [
    {
     "name": "stdout",
     "output_type": "stream",
     "text": [
      "What is your email address?: mallickarpita98@gmail.com\n",
      "Your username is 'mallickarpita98' and your domain name is 'gmail.com'\n"
     ]
    }
   ],
   "source": [
    "email = input(\"What is your email address?: \").strip()\n",
    "\n",
    "user_name = email[:email.index(\"@\")]\n",
    "domain_name = email[email.index(\"@\")+1:]\n",
    "\n",
    "output = \"Your username is '{}' and your domain name is '{}'\".format(user_name,domain_name)\n",
    "\n",
    "print(output)"
   ]
  },
  {
   "cell_type": "code",
   "execution_count": null,
   "metadata": {},
   "outputs": [],
   "source": []
  }
 ],
 "metadata": {
  "kernelspec": {
   "display_name": "Python 3",
   "language": "python",
   "name": "python3"
  },
  "language_info": {
   "codemirror_mode": {
    "name": "ipython",
    "version": 3
   },
   "file_extension": ".py",
   "mimetype": "text/x-python",
   "name": "python",
   "nbconvert_exporter": "python",
   "pygments_lexer": "ipython3",
   "version": "3.7.3"
  }
 },
 "nbformat": 4,
 "nbformat_minor": 2
}
